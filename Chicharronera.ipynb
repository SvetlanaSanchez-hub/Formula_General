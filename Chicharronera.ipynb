{
  "nbformat": 4,
  "nbformat_minor": 0,
  "metadata": {
    "colab": {
      "name": "Chicharronera.ipynb",
      "provenance": [],
      "collapsed_sections": []
    },
    "kernelspec": {
      "name": "python3",
      "display_name": "Python 3"
    },
    "language_info": {
      "name": "python"
    }
  },
  "cells": [
    {
      "cell_type": "code",
      "metadata": {
        "colab": {
          "base_uri": "https://localhost:8080/"
        },
        "id": "kqQ9pwIw86qN",
        "outputId": "0cacd104-0e85-4acf-80a0-918a627d5e84"
      },
      "source": [
        "# Funcion para resolver ecuaciones de segundo grado\n",
        "\n",
        "a = float(input('Introduzca el valor de a: '))\n",
        "b = float(input('Introduzca el valor de b: '))\n",
        "c = float(input('Introduzca el valor de c: '))\n",
        "\n",
        "x_1 = (-b+(((b**2)-(4*a*c))**0.5))/(2*a)\n",
        "x_2 = (-b-(((b**2)-(4*a*c))**0.5))/(2*a)\n",
        "\n",
        "\n",
        "#Se eleva a la 0.5 porque se convirtió la raíz\n",
        "\n",
        "print('El valor de x_1 es: ') \n",
        "print(x_1)\n",
        "\n",
        "print('El valor de x_2 es: ') \n",
        "print(x_2)\n",
        "\n"
      ],
      "execution_count": null,
      "outputs": [
        {
          "output_type": "stream",
          "name": "stdout",
          "text": [
            "Introduzca el valor de a: 2\n",
            "Introduzca el valor de b: -7\n",
            "Introduzca el valor de c: 3\n",
            "El valor de x_1 es: \n",
            "3.0\n",
            "El valor de x_2 es: \n",
            "0.5\n"
          ]
        }
      ]
    }
  ]
}